{
 "cells": [
  {
   "cell_type": "markdown",
   "id": "d5fad1f2",
   "metadata": {},
   "source": [
    "Смоделировать игру против лотерейного автомата типа “777”. Игрок платит 1 руб., после чего выпадает случайное целое число, равномерно распределенное от 0 до 999. При некоторых значениях числа игрок получает выигрыш.\n",
    "\n",
    "\n",
    "777: 200 руб.\n",
    "\n",
    "999: 100 руб.\n",
    "\n",
    "555: 50 руб.\n",
    "\n",
    "333: 15 руб.\n",
    "\n",
    "111: 10 руб.\n",
    "\n",
    "*77: 5 руб.\n",
    "\n",
    "**7: 3 руб.\n",
    "\n",
    "*00: 2 руб.\n",
    "\n",
    "**0: 1 руб.\n",
    "\n",
    "Вопросы:\n",
    "\n",
    "\n",
    "Выгодна ли игра игроку?\n",
    "Сколько в среднем приобретает или теряет игрок за одну игру?\n",
    "**Дополнительное задание повышенной сложности. **\n",
    "\n",
    "\n",
    "Теоретически рассчитать средний выигрыш (проигрыш) и сравнить с результатами моделирования"
   ]
  },
  {
   "cell_type": "code",
   "execution_count": 1,
   "id": "819fbf4d",
   "metadata": {},
   "outputs": [],
   "source": [
    "import numpy as np\n",
    "import pandas as pd"
   ]
  },
  {
   "cell_type": "code",
   "execution_count": 37,
   "id": "fbab1360",
   "metadata": {},
   "outputs": [],
   "source": [
    "num_list = list(range(0, 1000)) # задаю список комбинаций. \n",
    "\n",
    "w_dict = {} # определю выигрышные значения и упакую их в словарь.\n",
    "# Предполагаю, что со словарем работать будет быстрее,\n",
    "# потому что программе не придется каждую итерацию прогонять число через наши проверки (?)\n",
    "\n",
    "for i in num_list:\n",
    "    if i == 777:\n",
    "        w_dict[i] = 200\n",
    "    elif i == 999:\n",
    "        w_dict[i] = 100    \n",
    "    elif i == 555:\n",
    "        w_dict[i] = 50    \n",
    "    elif i == 333:\n",
    "        w_dict[i] = 15    \n",
    "    elif i == 111:\n",
    "        w_dict[i] = 10    \n",
    "    \n",
    "    elif i % 100 == 77:\n",
    "        w_dict[i] = 5\n",
    "    elif i % 10 ==7:\n",
    "        w_dict[i] = 3\n",
    "    elif i % 100 == 0:\n",
    "        w_dict[i] = 2\n",
    "    elif i % 10 == 0:\n",
    "        w_dict[i] = 1\n",
    "            \n",
    "# w_dict\n",
    "# len(num_list)\n"
   ]
  },
  {
   "cell_type": "code",
   "execution_count": 38,
   "id": "5d05bfc9",
   "metadata": {},
   "outputs": [
    {
     "name": "stdout",
     "output_type": "stream",
     "text": [
      "203952 успешных игр\n",
      "0.203952 реальная вероятность выигрыша\n",
      "0.204 теоретическая выигрышность\n",
      "804902 сумма выигрышей\n",
      "-195098 разница между затратами и выигрышем\n"
     ]
    }
   ],
   "source": [
    "win_list =  [] #список выигрышей\n",
    "trials = 1000000\n",
    "bet = 1 # ставка\n",
    "successes = 0\n",
    "bingo = 0 # сумма выигрышей\n",
    "\n",
    "for i in range(trials):\n",
    "    \n",
    "    random_score = np.random.randint(0, 1000)\n",
    "    if random_score in w_dict.keys():\n",
    "        \n",
    "        successes +=1\n",
    "        bingo +=w_dict.get(random_score)\n",
    "        win_list.append(w_dict.get(random_score))\n",
    " \n",
    "p_monte_carlo = successes / trials\n",
    "p = len(w_dict) / len(num_list)\n",
    "\n",
    "print(successes, 'успешных игр')\n",
    "print(p_monte_carlo, 'реальная вероятность выигрыша')\n",
    "print(p, 'теоретическая выигрышность')\n",
    "print(bingo, 'сумма выигрышей')\n",
    "print(bingo - trials * bet, 'разница между затратами и выигрышем' )\n",
    "\n",
    "#print(win_list)\n",
    "# sum(win_list) # сумма выигрышей"
   ]
  },
  {
   "cell_type": "code",
   "execution_count": 39,
   "id": "65efc9ee",
   "metadata": {},
   "outputs": [
    {
     "data": {
      "text/plain": [
       "-0.195098"
      ]
     },
     "execution_count": 39,
     "metadata": {},
     "output_type": "execute_result"
    }
   ],
   "source": [
    "(bingo - trials * bet) / 1000000 # потеря за одну игру, примерно 20% от ставки. Такая игра невыгодна"
   ]
  },
  {
   "cell_type": "markdown",
   "id": "00297a72",
   "metadata": {},
   "source": [
    "Найду среднее значение как совокупность произведений значений ставок и их вероятностей выпадения. "
   ]
  },
  {
   "cell_type": "code",
   "execution_count": 40,
   "id": "0a074a05",
   "metadata": {},
   "outputs": [
    {
     "data": {
      "text/plain": [
       "90"
      ]
     },
     "execution_count": 40,
     "metadata": {},
     "output_type": "execute_result"
    }
   ],
   "source": [
    "roubles_ = [] # количества выигрышных комбинаций. \n",
    "# подставив в if value == значение выигрыша, получу количество выигрышных комбинаций\n",
    "for key, value in w_dict.items():\n",
    "    if value == 3:\n",
    "        roubles_.append(key)\n",
    "len(roubles_)        "
   ]
  },
  {
   "cell_type": "code",
   "execution_count": 41,
   "id": "2a86ca3b",
   "metadata": {},
   "outputs": [
    {
     "data": {
      "text/plain": [
       "0.7999999999999999"
      ]
     },
     "execution_count": 41,
     "metadata": {},
     "output_type": "execute_result"
    }
   ],
   "source": [
    "q = ((200 + 100 + 50 + 15 + 10) * 0.001) + (5 * 0.009) + (3 * 0.09) + (2 * 0.01) + (1 * 0.09)\n",
    "q\n"
   ]
  },
  {
   "cell_type": "code",
   "execution_count": 42,
   "id": "ccb1340c",
   "metadata": {},
   "outputs": [
    {
     "data": {
      "text/plain": [
       "-0.20000000000000007"
      ]
     },
     "execution_count": 42,
     "metadata": {},
     "output_type": "execute_result"
    }
   ],
   "source": [
    "-bet + q # проигрыш за одну игру. примерно 20%. Почти совпадает с расчетом модели."
   ]
  },
  {
   "cell_type": "code",
   "execution_count": null,
   "id": "8f5183aa",
   "metadata": {},
   "outputs": [],
   "source": []
  }
 ],
 "metadata": {
  "kernelspec": {
   "display_name": "Python 3",
   "language": "python",
   "name": "python3"
  },
  "language_info": {
   "codemirror_mode": {
    "name": "ipython",
    "version": 3
   },
   "file_extension": ".py",
   "mimetype": "text/x-python",
   "name": "python",
   "nbconvert_exporter": "python",
   "pygments_lexer": "ipython3",
   "version": "3.8.8"
  }
 },
 "nbformat": 4,
 "nbformat_minor": 5
}
